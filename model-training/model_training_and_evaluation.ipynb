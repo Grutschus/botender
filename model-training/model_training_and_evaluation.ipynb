{
 "cells": [
  {
   "cell_type": "markdown",
   "metadata": {},
   "source": [
    "# Model training, parameter tuning and evaluation"
   ]
  },
  {
   "cell_type": "code",
   "execution_count": 1,
   "metadata": {
    "notebookRunGroups": {
     "groupValue": "12"
    }
   },
   "outputs": [],
   "source": [
    "import pandas as pd\n",
    "import pickle\n",
    "import matplotlib.pyplot as plt\n",
    "from sklearn.ensemble import RandomForestClassifier\n",
    "from sklearn.pipeline import Pipeline\n",
    "from sklearn.svm import SVC\n",
    "from sklearn.model_selection import GridSearchCV\n",
    "from sklearn.metrics import f1_score\n",
    "from sklearn.metrics import confusion_matrix\n",
    "from sklearn.metrics import ConfusionMatrixDisplay\n",
    "from sklearn.metrics import classification_report"
   ]
  },
  {
   "cell_type": "markdown",
   "metadata": {},
   "source": [
    "## Load datasets"
   ]
  },
  {
   "cell_type": "code",
   "execution_count": 2,
   "metadata": {
    "notebookRunGroups": {
     "groupValue": "1"
    }
   },
   "outputs": [],
   "source": [
    "train = pd.read_csv('train.csv')\n",
    "test = pd.read_csv('test.csv')"
   ]
  },
  {
   "cell_type": "markdown",
   "metadata": {},
   "source": [
    "## Define and run the Grid Search"
   ]
  },
  {
   "cell_type": "code",
   "execution_count": 13,
   "metadata": {
    "notebookRunGroups": {
     "groupValue": "1"
    }
   },
   "outputs": [],
   "source": [
    "model = SVC()\n",
    "pipeline = Pipeline([('model', model)])\n",
    "\n",
    "param_grid_svc = {\n",
    "    'model': [SVC(random_state=42)],\n",
    "    'model__kernel': ['linear', 'poly', 'rbf'],\n",
    "    'model__C': [0.01, 0.1, 1, 10, 100],\n",
    "    'model__gamma': ['scale', 'auto'],\n",
    "    }\n",
    "\n",
    "param_grid_rf = {\n",
    "    'model': [RandomForestClassifier(random_state=42)],\n",
    "    'model__n_estimators': [10, 100, 1000],\n",
    "    'model__max_features': ['sqrt', 'log2'],\n",
    "    'model__max_depth': [2, 4, 6, 8, 10],\n",
    "    'model__criterion': ['gini', 'entropy'],\n",
    "    }\n",
    "\n",
    "param_grid = [param_grid_svc, param_grid_rf]\n",
    "\n",
    "grid_search = GridSearchCV(pipeline, param_grid, cv=5, verbose=3, n_jobs=-1)"
   ]
  },
  {
   "cell_type": "code",
   "execution_count": 30,
   "metadata": {
    "notebookRunGroups": {
     "groupValue": "1"
    }
   },
   "outputs": [
    {
     "name": "stdout",
     "output_type": "stream",
     "text": [
      "Fitting 5 folds for each of 90 candidates, totalling 450 fits\n"
     ]
    },
    {
     "data": {
      "text/html": [
       "<style>#sk-container-id-3 {color: black;}#sk-container-id-3 pre{padding: 0;}#sk-container-id-3 div.sk-toggleable {background-color: white;}#sk-container-id-3 label.sk-toggleable__label {cursor: pointer;display: block;width: 100%;margin-bottom: 0;padding: 0.3em;box-sizing: border-box;text-align: center;}#sk-container-id-3 label.sk-toggleable__label-arrow:before {content: \"▸\";float: left;margin-right: 0.25em;color: #696969;}#sk-container-id-3 label.sk-toggleable__label-arrow:hover:before {color: black;}#sk-container-id-3 div.sk-estimator:hover label.sk-toggleable__label-arrow:before {color: black;}#sk-container-id-3 div.sk-toggleable__content {max-height: 0;max-width: 0;overflow: hidden;text-align: left;background-color: #f0f8ff;}#sk-container-id-3 div.sk-toggleable__content pre {margin: 0.2em;color: black;border-radius: 0.25em;background-color: #f0f8ff;}#sk-container-id-3 input.sk-toggleable__control:checked~div.sk-toggleable__content {max-height: 200px;max-width: 100%;overflow: auto;}#sk-container-id-3 input.sk-toggleable__control:checked~label.sk-toggleable__label-arrow:before {content: \"▾\";}#sk-container-id-3 div.sk-estimator input.sk-toggleable__control:checked~label.sk-toggleable__label {background-color: #d4ebff;}#sk-container-id-3 div.sk-label input.sk-toggleable__control:checked~label.sk-toggleable__label {background-color: #d4ebff;}#sk-container-id-3 input.sk-hidden--visually {border: 0;clip: rect(1px 1px 1px 1px);clip: rect(1px, 1px, 1px, 1px);height: 1px;margin: -1px;overflow: hidden;padding: 0;position: absolute;width: 1px;}#sk-container-id-3 div.sk-estimator {font-family: monospace;background-color: #f0f8ff;border: 1px dotted black;border-radius: 0.25em;box-sizing: border-box;margin-bottom: 0.5em;}#sk-container-id-3 div.sk-estimator:hover {background-color: #d4ebff;}#sk-container-id-3 div.sk-parallel-item::after {content: \"\";width: 100%;border-bottom: 1px solid gray;flex-grow: 1;}#sk-container-id-3 div.sk-label:hover label.sk-toggleable__label {background-color: #d4ebff;}#sk-container-id-3 div.sk-serial::before {content: \"\";position: absolute;border-left: 1px solid gray;box-sizing: border-box;top: 0;bottom: 0;left: 50%;z-index: 0;}#sk-container-id-3 div.sk-serial {display: flex;flex-direction: column;align-items: center;background-color: white;padding-right: 0.2em;padding-left: 0.2em;position: relative;}#sk-container-id-3 div.sk-item {position: relative;z-index: 1;}#sk-container-id-3 div.sk-parallel {display: flex;align-items: stretch;justify-content: center;background-color: white;position: relative;}#sk-container-id-3 div.sk-item::before, #sk-container-id-3 div.sk-parallel-item::before {content: \"\";position: absolute;border-left: 1px solid gray;box-sizing: border-box;top: 0;bottom: 0;left: 50%;z-index: -1;}#sk-container-id-3 div.sk-parallel-item {display: flex;flex-direction: column;z-index: 1;position: relative;background-color: white;}#sk-container-id-3 div.sk-parallel-item:first-child::after {align-self: flex-end;width: 50%;}#sk-container-id-3 div.sk-parallel-item:last-child::after {align-self: flex-start;width: 50%;}#sk-container-id-3 div.sk-parallel-item:only-child::after {width: 0;}#sk-container-id-3 div.sk-dashed-wrapped {border: 1px dashed gray;margin: 0 0.4em 0.5em 0.4em;box-sizing: border-box;padding-bottom: 0.4em;background-color: white;}#sk-container-id-3 div.sk-label label {font-family: monospace;font-weight: bold;display: inline-block;line-height: 1.2em;}#sk-container-id-3 div.sk-label-container {text-align: center;}#sk-container-id-3 div.sk-container {/* jupyter's `normalize.less` sets `[hidden] { display: none; }` but bootstrap.min.css set `[hidden] { display: none !important; }` so we also need the `!important` here to be able to override the default hidden behavior on the sphinx rendered scikit-learn.org. See: https://github.com/scikit-learn/scikit-learn/issues/21755 */display: inline-block !important;position: relative;}#sk-container-id-3 div.sk-text-repr-fallback {display: none;}</style><div id=\"sk-container-id-3\" class=\"sk-top-container\"><div class=\"sk-text-repr-fallback\"><pre>GridSearchCV(cv=5, estimator=Pipeline(steps=[(&#x27;model&#x27;, SVC())]), n_jobs=-1,\n",
       "             param_grid=[{&#x27;model&#x27;: [SVC(random_state=42)],\n",
       "                          &#x27;model__C&#x27;: [0.01, 0.1, 1, 10, 100],\n",
       "                          &#x27;model__gamma&#x27;: [&#x27;scale&#x27;, &#x27;auto&#x27;],\n",
       "                          &#x27;model__kernel&#x27;: [&#x27;linear&#x27;, &#x27;poly&#x27;, &#x27;rbf&#x27;]},\n",
       "                         {&#x27;model&#x27;: [RandomForestClassifier(random_state=42)],\n",
       "                          &#x27;model__criterion&#x27;: [&#x27;gini&#x27;, &#x27;entropy&#x27;],\n",
       "                          &#x27;model__max_depth&#x27;: [2, 4, 6, 8, 10],\n",
       "                          &#x27;model__max_features&#x27;: [&#x27;sqrt&#x27;, &#x27;log2&#x27;],\n",
       "                          &#x27;model__n_estimators&#x27;: [10, 100, 1000]}],\n",
       "             verbose=3)</pre><b>In a Jupyter environment, please rerun this cell to show the HTML representation or trust the notebook. <br />On GitHub, the HTML representation is unable to render, please try loading this page with nbviewer.org.</b></div><div class=\"sk-container\" hidden><div class=\"sk-item sk-dashed-wrapped\"><div class=\"sk-label-container\"><div class=\"sk-label sk-toggleable\"><input class=\"sk-toggleable__control sk-hidden--visually\" id=\"sk-estimator-id-7\" type=\"checkbox\" ><label for=\"sk-estimator-id-7\" class=\"sk-toggleable__label sk-toggleable__label-arrow\">GridSearchCV</label><div class=\"sk-toggleable__content\"><pre>GridSearchCV(cv=5, estimator=Pipeline(steps=[(&#x27;model&#x27;, SVC())]), n_jobs=-1,\n",
       "             param_grid=[{&#x27;model&#x27;: [SVC(random_state=42)],\n",
       "                          &#x27;model__C&#x27;: [0.01, 0.1, 1, 10, 100],\n",
       "                          &#x27;model__gamma&#x27;: [&#x27;scale&#x27;, &#x27;auto&#x27;],\n",
       "                          &#x27;model__kernel&#x27;: [&#x27;linear&#x27;, &#x27;poly&#x27;, &#x27;rbf&#x27;]},\n",
       "                         {&#x27;model&#x27;: [RandomForestClassifier(random_state=42)],\n",
       "                          &#x27;model__criterion&#x27;: [&#x27;gini&#x27;, &#x27;entropy&#x27;],\n",
       "                          &#x27;model__max_depth&#x27;: [2, 4, 6, 8, 10],\n",
       "                          &#x27;model__max_features&#x27;: [&#x27;sqrt&#x27;, &#x27;log2&#x27;],\n",
       "                          &#x27;model__n_estimators&#x27;: [10, 100, 1000]}],\n",
       "             verbose=3)</pre></div></div></div><div class=\"sk-parallel\"><div class=\"sk-parallel-item\"><div class=\"sk-item\"><div class=\"sk-label-container\"><div class=\"sk-label sk-toggleable\"><input class=\"sk-toggleable__control sk-hidden--visually\" id=\"sk-estimator-id-8\" type=\"checkbox\" ><label for=\"sk-estimator-id-8\" class=\"sk-toggleable__label sk-toggleable__label-arrow\">estimator: Pipeline</label><div class=\"sk-toggleable__content\"><pre>Pipeline(steps=[(&#x27;model&#x27;, SVC())])</pre></div></div></div><div class=\"sk-serial\"><div class=\"sk-item\"><div class=\"sk-serial\"><div class=\"sk-item\"><div class=\"sk-estimator sk-toggleable\"><input class=\"sk-toggleable__control sk-hidden--visually\" id=\"sk-estimator-id-9\" type=\"checkbox\" ><label for=\"sk-estimator-id-9\" class=\"sk-toggleable__label sk-toggleable__label-arrow\">SVC</label><div class=\"sk-toggleable__content\"><pre>SVC()</pre></div></div></div></div></div></div></div></div></div></div></div></div>"
      ],
      "text/plain": [
       "GridSearchCV(cv=5, estimator=Pipeline(steps=[('model', SVC())]), n_jobs=-1,\n",
       "             param_grid=[{'model': [SVC(random_state=42)],\n",
       "                          'model__C': [0.01, 0.1, 1, 10, 100],\n",
       "                          'model__gamma': ['scale', 'auto'],\n",
       "                          'model__kernel': ['linear', 'poly', 'rbf']},\n",
       "                         {'model': [RandomForestClassifier(random_state=42)],\n",
       "                          'model__criterion': ['gini', 'entropy'],\n",
       "                          'model__max_depth': [2, 4, 6, 8, 10],\n",
       "                          'model__max_features': ['sqrt', 'log2'],\n",
       "                          'model__n_estimators': [10, 100, 1000]}],\n",
       "             verbose=3)"
      ]
     },
     "execution_count": 30,
     "metadata": {},
     "output_type": "execute_result"
    }
   ],
   "source": [
    "grid_search.fit(train.drop('emotion', axis=1), train['emotion'])"
   ]
  },
  {
   "cell_type": "code",
   "execution_count": 31,
   "metadata": {
    "notebookRunGroups": {
     "groupValue": "1"
    }
   },
   "outputs": [
    {
     "data": {
      "text/html": [
       "<div>\n",
       "<style scoped>\n",
       "    .dataframe tbody tr th:only-of-type {\n",
       "        vertical-align: middle;\n",
       "    }\n",
       "\n",
       "    .dataframe tbody tr th {\n",
       "        vertical-align: top;\n",
       "    }\n",
       "\n",
       "    .dataframe thead th {\n",
       "        text-align: right;\n",
       "    }\n",
       "</style>\n",
       "<table border=\"1\" class=\"dataframe\">\n",
       "  <thead>\n",
       "    <tr style=\"text-align: right;\">\n",
       "      <th></th>\n",
       "      <th>params</th>\n",
       "      <th>mean_test_score</th>\n",
       "      <th>rank_test_score</th>\n",
       "    </tr>\n",
       "  </thead>\n",
       "  <tbody>\n",
       "    <tr>\n",
       "      <th>85</th>\n",
       "      <td>{'model': RandomForestClassifier(random_state=...</td>\n",
       "      <td>0.616907</td>\n",
       "      <td>1</td>\n",
       "    </tr>\n",
       "    <tr>\n",
       "      <th>88</th>\n",
       "      <td>{'model': RandomForestClassifier(random_state=...</td>\n",
       "      <td>0.616907</td>\n",
       "      <td>1</td>\n",
       "    </tr>\n",
       "    <tr>\n",
       "      <th>6</th>\n",
       "      <td>{'model': SVC(random_state=42), 'model__C': 0....</td>\n",
       "      <td>0.615832</td>\n",
       "      <td>3</td>\n",
       "    </tr>\n",
       "    <tr>\n",
       "      <th>9</th>\n",
       "      <td>{'model': SVC(random_state=42), 'model__C': 0....</td>\n",
       "      <td>0.615832</td>\n",
       "      <td>3</td>\n",
       "    </tr>\n",
       "    <tr>\n",
       "      <th>24</th>\n",
       "      <td>{'model': SVC(random_state=42), 'model__C': 10...</td>\n",
       "      <td>0.615832</td>\n",
       "      <td>5</td>\n",
       "    </tr>\n",
       "    <tr>\n",
       "      <th>27</th>\n",
       "      <td>{'model': SVC(random_state=42), 'model__C': 10...</td>\n",
       "      <td>0.615832</td>\n",
       "      <td>5</td>\n",
       "    </tr>\n",
       "    <tr>\n",
       "      <th>59</th>\n",
       "      <td>{'model': RandomForestClassifier(random_state=...</td>\n",
       "      <td>0.615619</td>\n",
       "      <td>7</td>\n",
       "    </tr>\n",
       "    <tr>\n",
       "      <th>56</th>\n",
       "      <td>{'model': RandomForestClassifier(random_state=...</td>\n",
       "      <td>0.615619</td>\n",
       "      <td>7</td>\n",
       "    </tr>\n",
       "    <tr>\n",
       "      <th>18</th>\n",
       "      <td>{'model': SVC(random_state=42), 'model__C': 10...</td>\n",
       "      <td>0.615617</td>\n",
       "      <td>9</td>\n",
       "    </tr>\n",
       "    <tr>\n",
       "      <th>21</th>\n",
       "      <td>{'model': SVC(random_state=42), 'model__C': 10...</td>\n",
       "      <td>0.615617</td>\n",
       "      <td>9</td>\n",
       "    </tr>\n",
       "  </tbody>\n",
       "</table>\n",
       "</div>"
      ],
      "text/plain": [
       "                                               params  mean_test_score  \\\n",
       "85  {'model': RandomForestClassifier(random_state=...         0.616907   \n",
       "88  {'model': RandomForestClassifier(random_state=...         0.616907   \n",
       "6   {'model': SVC(random_state=42), 'model__C': 0....         0.615832   \n",
       "9   {'model': SVC(random_state=42), 'model__C': 0....         0.615832   \n",
       "24  {'model': SVC(random_state=42), 'model__C': 10...         0.615832   \n",
       "27  {'model': SVC(random_state=42), 'model__C': 10...         0.615832   \n",
       "59  {'model': RandomForestClassifier(random_state=...         0.615619   \n",
       "56  {'model': RandomForestClassifier(random_state=...         0.615619   \n",
       "18  {'model': SVC(random_state=42), 'model__C': 10...         0.615617   \n",
       "21  {'model': SVC(random_state=42), 'model__C': 10...         0.615617   \n",
       "\n",
       "    rank_test_score  \n",
       "85                1  \n",
       "88                1  \n",
       "6                 3  \n",
       "9                 3  \n",
       "24                5  \n",
       "27                5  \n",
       "59                7  \n",
       "56                7  \n",
       "18                9  \n",
       "21                9  "
      ]
     },
     "metadata": {},
     "output_type": "display_data"
    }
   ],
   "source": [
    "results = pd.DataFrame(grid_search.cv_results_)\n",
    "results.sort_values('rank_test_score', inplace=True)\n",
    "display(results[['params', 'mean_test_score', 'rank_test_score']].head(10))"
   ]
  },
  {
   "cell_type": "code",
   "execution_count": 32,
   "metadata": {
    "notebookRunGroups": {
     "groupValue": "1"
    }
   },
   "outputs": [
    {
     "name": "stdout",
     "output_type": "stream",
     "text": [
      "Best parameters: {'model': RandomForestClassifier(random_state=42), 'model__criterion': 'entropy', 'model__max_depth': 10, 'model__max_features': 'sqrt', 'model__n_estimators': 100}\n"
     ]
    }
   ],
   "source": [
    "print(f\"Best parameters: {grid_search.best_params_}\")\n",
    "\n",
    "best_model = grid_search.best_estimator_\n",
    "\n",
    "best_model.fit(train.drop('emotion', axis=1), train['emotion'])\n",
    "\n",
    "# save the model\n",
    "pickle.dump(best_model, open('best_model.pkl', 'wb'))"
   ]
  },
  {
   "cell_type": "markdown",
   "metadata": {},
   "source": [
    "## Evaluate the best model"
   ]
  },
  {
   "cell_type": "code",
   "execution_count": 22,
   "metadata": {
    "notebookRunGroups": {
     "groupValue": "2"
    }
   },
   "outputs": [],
   "source": [
    "# load the model\n",
    "best_model = pickle.load(open('best_model.pkl', 'rb'))"
   ]
  },
  {
   "cell_type": "code",
   "execution_count": 23,
   "metadata": {
    "notebookRunGroups": {
     "groupValue": "2"
    }
   },
   "outputs": [
    {
     "name": "stdout",
     "output_type": "stream",
     "text": [
      "Train data accuracy: 0.8382668382668382\n",
      "Test data accuracy: 0.6274131274131274\n",
      "Train data f1-score: 0.816318745707735\n",
      "Test data f1-score: 0.5388067081894807\n"
     ]
    }
   ],
   "source": [
    "print(f\"Train data accuracy: {best_model.score(train.drop('emotion', axis=1), train['emotion'])}\")\n",
    "print(f\"Test data accuracy: {best_model.score(test.drop('emotion', axis=1), test['emotion'])}\")\n",
    "\n",
    "print(f\"Train data f1-score: {f1_score(train['emotion'], best_model.predict(train.drop('emotion', axis=1)), average='macro')}\")\n",
    "print(f\"Test data f1-score: {f1_score(test['emotion'], best_model.predict(test.drop('emotion', axis=1)), average='macro')}\")"
   ]
  },
  {
   "cell_type": "code",
   "execution_count": 24,
   "metadata": {},
   "outputs": [
    {
     "data": {
      "image/png": "[encoded data removed]",
      "text/plain": [
       "<Figure size 640x480 with 2 Axes>"
      ]
     },
     "metadata": {},
     "output_type": "display_data"
    }
   ],
   "source": [
    "test_pred = best_model.predict(test.drop('emotion', axis=1))\n",
    "\n",
    "labels = [\"angry\", \"happy\", \"sad\", \"neutral\"]\n",
    "cm = confusion_matrix(test[\"emotion\"], test_pred, normalize='true', labels=labels)\n",
    "dsp = ConfusionMatrixDisplay(cm, display_labels=labels)\n",
    "dsp.plot(cmap=plt.cm.Blues)\n",
    "plt.title(\"Confusion Matrix with PCA\")\n",
    "plt.show()"
   ]
  },
  {
   "cell_type": "code",
   "execution_count": 25,
   "metadata": {},
   "outputs": [
    {
     "name": "stdout",
     "output_type": "stream",
     "text": [
      "Classification report with PCA:\n",
      "\n",
      "              precision    recall  f1-score   support\n",
      "\n",
      "       angry       0.65      0.32      0.43        95\n",
      "       happy       0.83      0.87      0.85       186\n",
      "         sad       0.39      0.20      0.26        97\n",
      "     neutral       0.50      0.81      0.62       140\n",
      "\n",
      "    accuracy                           0.63       518\n",
      "   macro avg       0.59      0.55      0.54       518\n",
      "weighted avg       0.62      0.63      0.60       518\n",
      "\n"
     ]
    }
   ],
   "source": [
    "print(f\"Classification report with PCA:\\n\")\n",
    "print(\n",
    "    classification_report(test[\"emotion\"], test_pred, labels=labels)\n",
    ")"
   ]
  },
  {
   "cell_type": "markdown",
   "metadata": {},
   "source": [
    "## Repeat without PCA"
   ]
  },
  {
   "cell_type": "code",
   "execution_count": 7,
   "metadata": {},
   "outputs": [],
   "source": [
    "train_wo_pca = pd.read_csv('train_wo_pca.csv')\n",
    "test_wo_pca = pd.read_csv('test_wo_pca.csv')"
   ]
  },
  {
   "cell_type": "code",
   "execution_count": 14,
   "metadata": {},
   "outputs": [
    {
     "name": "stdout",
     "output_type": "stream",
     "text": [
      "Fitting 5 folds for each of 90 candidates, totalling 450 fits\n"
     ]
    },
    {
     "data": {
      "text/html": [
       "<style>#sk-container-id-1 {color: black;}#sk-container-id-1 pre{padding: 0;}#sk-container-id-1 div.sk-toggleable {background-color: white;}#sk-container-id-1 label.sk-toggleable__label {cursor: pointer;display: block;width: 100%;margin-bottom: 0;padding: 0.3em;box-sizing: border-box;text-align: center;}#sk-container-id-1 label.sk-toggleable__label-arrow:before {content: \"▸\";float: left;margin-right: 0.25em;color: #696969;}#sk-container-id-1 label.sk-toggleable__label-arrow:hover:before {color: black;}#sk-container-id-1 div.sk-estimator:hover label.sk-toggleable__label-arrow:before {color: black;}#sk-container-id-1 div.sk-toggleable__content {max-height: 0;max-width: 0;overflow: hidden;text-align: left;background-color: #f0f8ff;}#sk-container-id-1 div.sk-toggleable__content pre {margin: 0.2em;color: black;border-radius: 0.25em;background-color: #f0f8ff;}#sk-container-id-1 input.sk-toggleable__control:checked~div.sk-toggleable__content {max-height: 200px;max-width: 100%;overflow: auto;}#sk-container-id-1 input.sk-toggleable__control:checked~label.sk-toggleable__label-arrow:before {content: \"▾\";}#sk-container-id-1 div.sk-estimator input.sk-toggleable__control:checked~label.sk-toggleable__label {background-color: #d4ebff;}#sk-container-id-1 div.sk-label input.sk-toggleable__control:checked~label.sk-toggleable__label {background-color: #d4ebff;}#sk-container-id-1 input.sk-hidden--visually {border: 0;clip: rect(1px 1px 1px 1px);clip: rect(1px, 1px, 1px, 1px);height: 1px;margin: -1px;overflow: hidden;padding: 0;position: absolute;width: 1px;}#sk-container-id-1 div.sk-estimator {font-family: monospace;background-color: #f0f8ff;border: 1px dotted black;border-radius: 0.25em;box-sizing: border-box;margin-bottom: 0.5em;}#sk-container-id-1 div.sk-estimator:hover {background-color: #d4ebff;}#sk-container-id-1 div.sk-parallel-item::after {content: \"\";width: 100%;border-bottom: 1px solid gray;flex-grow: 1;}#sk-container-id-1 div.sk-label:hover label.sk-toggleable__label {background-color: #d4ebff;}#sk-container-id-1 div.sk-serial::before {content: \"\";position: absolute;border-left: 1px solid gray;box-sizing: border-box;top: 0;bottom: 0;left: 50%;z-index: 0;}#sk-container-id-1 div.sk-serial {display: flex;flex-direction: column;align-items: center;background-color: white;padding-right: 0.2em;padding-left: 0.2em;position: relative;}#sk-container-id-1 div.sk-item {position: relative;z-index: 1;}#sk-container-id-1 div.sk-parallel {display: flex;align-items: stretch;justify-content: center;background-color: white;position: relative;}#sk-container-id-1 div.sk-item::before, #sk-container-id-1 div.sk-parallel-item::before {content: \"\";position: absolute;border-left: 1px solid gray;box-sizing: border-box;top: 0;bottom: 0;left: 50%;z-index: -1;}#sk-container-id-1 div.sk-parallel-item {display: flex;flex-direction: column;z-index: 1;position: relative;background-color: white;}#sk-container-id-1 div.sk-parallel-item:first-child::after {align-self: flex-end;width: 50%;}#sk-container-id-1 div.sk-parallel-item:last-child::after {align-self: flex-start;width: 50%;}#sk-container-id-1 div.sk-parallel-item:only-child::after {width: 0;}#sk-container-id-1 div.sk-dashed-wrapped {border: 1px dashed gray;margin: 0 0.4em 0.5em 0.4em;box-sizing: border-box;padding-bottom: 0.4em;background-color: white;}#sk-container-id-1 div.sk-label label {font-family: monospace;font-weight: bold;display: inline-block;line-height: 1.2em;}#sk-container-id-1 div.sk-label-container {text-align: center;}#sk-container-id-1 div.sk-container {/* jupyter's `normalize.less` sets `[hidden] { display: none; }` but bootstrap.min.css set `[hidden] { display: none !important; }` so we also need the `!important` here to be able to override the default hidden behavior on the sphinx rendered scikit-learn.org. See: https://github.com/scikit-learn/scikit-learn/issues/21755 */display: inline-block !important;position: relative;}#sk-container-id-1 div.sk-text-repr-fallback {display: none;}</style><div id=\"sk-container-id-1\" class=\"sk-top-container\"><div class=\"sk-text-repr-fallback\"><pre>GridSearchCV(cv=5, estimator=Pipeline(steps=[(&#x27;model&#x27;, SVC())]), n_jobs=-1,\n",
       "             param_grid=[{&#x27;model&#x27;: [SVC(random_state=42)],\n",
       "                          &#x27;model__C&#x27;: [0.01, 0.1, 1, 10, 100],\n",
       "                          &#x27;model__gamma&#x27;: [&#x27;scale&#x27;, &#x27;auto&#x27;],\n",
       "                          &#x27;model__kernel&#x27;: [&#x27;linear&#x27;, &#x27;poly&#x27;, &#x27;rbf&#x27;]},\n",
       "                         {&#x27;model&#x27;: [RandomForestClassifier(random_state=42)],\n",
       "                          &#x27;model__criterion&#x27;: [&#x27;gini&#x27;, &#x27;entropy&#x27;],\n",
       "                          &#x27;model__max_depth&#x27;: [2, 4, 6, 8, 10],\n",
       "                          &#x27;model__max_features&#x27;: [&#x27;sqrt&#x27;, &#x27;log2&#x27;],\n",
       "                          &#x27;model__n_estimators&#x27;: [10, 100, 1000]}],\n",
       "             verbose=3)</pre><b>In a Jupyter environment, please rerun this cell to show the HTML representation or trust the notebook. <br />On GitHub, the HTML representation is unable to render, please try loading this page with nbviewer.org.</b></div><div class=\"sk-container\" hidden><div class=\"sk-item sk-dashed-wrapped\"><div class=\"sk-label-container\"><div class=\"sk-label sk-toggleable\"><input class=\"sk-toggleable__control sk-hidden--visually\" id=\"sk-estimator-id-1\" type=\"checkbox\" ><label for=\"sk-estimator-id-1\" class=\"sk-toggleable__label sk-toggleable__label-arrow\">GridSearchCV</label><div class=\"sk-toggleable__content\"><pre>GridSearchCV(cv=5, estimator=Pipeline(steps=[(&#x27;model&#x27;, SVC())]), n_jobs=-1,\n",
       "             param_grid=[{&#x27;model&#x27;: [SVC(random_state=42)],\n",
       "                          &#x27;model__C&#x27;: [0.01, 0.1, 1, 10, 100],\n",
       "                          &#x27;model__gamma&#x27;: [&#x27;scale&#x27;, &#x27;auto&#x27;],\n",
       "                          &#x27;model__kernel&#x27;: [&#x27;linear&#x27;, &#x27;poly&#x27;, &#x27;rbf&#x27;]},\n",
       "                         {&#x27;model&#x27;: [RandomForestClassifier(random_state=42)],\n",
       "                          &#x27;model__criterion&#x27;: [&#x27;gini&#x27;, &#x27;entropy&#x27;],\n",
       "                          &#x27;model__max_depth&#x27;: [2, 4, 6, 8, 10],\n",
       "                          &#x27;model__max_features&#x27;: [&#x27;sqrt&#x27;, &#x27;log2&#x27;],\n",
       "                          &#x27;model__n_estimators&#x27;: [10, 100, 1000]}],\n",
       "             verbose=3)</pre></div></div></div><div class=\"sk-parallel\"><div class=\"sk-parallel-item\"><div class=\"sk-item\"><div class=\"sk-label-container\"><div class=\"sk-label sk-toggleable\"><input class=\"sk-toggleable__control sk-hidden--visually\" id=\"sk-estimator-id-2\" type=\"checkbox\" ><label for=\"sk-estimator-id-2\" class=\"sk-toggleable__label sk-toggleable__label-arrow\">estimator: Pipeline</label><div class=\"sk-toggleable__content\"><pre>Pipeline(steps=[(&#x27;model&#x27;, SVC())])</pre></div></div></div><div class=\"sk-serial\"><div class=\"sk-item\"><div class=\"sk-serial\"><div class=\"sk-item\"><div class=\"sk-estimator sk-toggleable\"><input class=\"sk-toggleable__control sk-hidden--visually\" id=\"sk-estimator-id-3\" type=\"checkbox\" ><label for=\"sk-estimator-id-3\" class=\"sk-toggleable__label sk-toggleable__label-arrow\">SVC</label><div class=\"sk-toggleable__content\"><pre>SVC()</pre></div></div></div></div></div></div></div></div></div></div></div></div>"
      ],
      "text/plain": [
       "GridSearchCV(cv=5, estimator=Pipeline(steps=[('model', SVC())]), n_jobs=-1,\n",
       "             param_grid=[{'model': [SVC(random_state=42)],\n",
       "                          'model__C': [0.01, 0.1, 1, 10, 100],\n",
       "                          'model__gamma': ['scale', 'auto'],\n",
       "                          'model__kernel': ['linear', 'poly', 'rbf']},\n",
       "                         {'model': [RandomForestClassifier(random_state=42)],\n",
       "                          'model__criterion': ['gini', 'entropy'],\n",
       "                          'model__max_depth': [2, 4, 6, 8, 10],\n",
       "                          'model__max_features': ['sqrt', 'log2'],\n",
       "                          'model__n_estimators': [10, 100, 1000]}],\n",
       "             verbose=3)"
      ]
     },
     "execution_count": 14,
     "metadata": {},
     "output_type": "execute_result"
    }
   ],
   "source": [
    "grid_search.fit(train_wo_pca.drop('emotion', axis=1), train_wo_pca['emotion'])"
   ]
  },
  {
   "cell_type": "code",
   "execution_count": 15,
   "metadata": {},
   "outputs": [
    {
     "data": {
      "text/html": [
       "<div>\n",
       "<style scoped>\n",
       "    .dataframe tbody tr th:only-of-type {\n",
       "        vertical-align: middle;\n",
       "    }\n",
       "\n",
       "    .dataframe tbody tr th {\n",
       "        vertical-align: top;\n",
       "    }\n",
       "\n",
       "    .dataframe thead th {\n",
       "        text-align: right;\n",
       "    }\n",
       "</style>\n",
       "<table border=\"1\" class=\"dataframe\">\n",
       "  <thead>\n",
       "    <tr style=\"text-align: right;\">\n",
       "      <th></th>\n",
       "      <th>params</th>\n",
       "      <th>mean_test_score</th>\n",
       "      <th>rank_test_score</th>\n",
       "    </tr>\n",
       "  </thead>\n",
       "  <tbody>\n",
       "    <tr>\n",
       "      <th>85</th>\n",
       "      <td>{'model': RandomForestClassifier(random_state=...</td>\n",
       "      <td>0.623124</td>\n",
       "      <td>1</td>\n",
       "    </tr>\n",
       "    <tr>\n",
       "      <th>88</th>\n",
       "      <td>{'model': RandomForestClassifier(random_state=...</td>\n",
       "      <td>0.623124</td>\n",
       "      <td>1</td>\n",
       "    </tr>\n",
       "    <tr>\n",
       "      <th>89</th>\n",
       "      <td>{'model': RandomForestClassifier(random_state=...</td>\n",
       "      <td>0.622050</td>\n",
       "      <td>3</td>\n",
       "    </tr>\n",
       "    <tr>\n",
       "      <th>86</th>\n",
       "      <td>{'model': RandomForestClassifier(random_state=...</td>\n",
       "      <td>0.622050</td>\n",
       "      <td>3</td>\n",
       "    </tr>\n",
       "    <tr>\n",
       "      <th>46</th>\n",
       "      <td>{'model': RandomForestClassifier(random_state=...</td>\n",
       "      <td>0.621837</td>\n",
       "      <td>5</td>\n",
       "    </tr>\n",
       "    <tr>\n",
       "      <th>43</th>\n",
       "      <td>{'model': RandomForestClassifier(random_state=...</td>\n",
       "      <td>0.621837</td>\n",
       "      <td>5</td>\n",
       "    </tr>\n",
       "    <tr>\n",
       "      <th>59</th>\n",
       "      <td>{'model': RandomForestClassifier(random_state=...</td>\n",
       "      <td>0.621836</td>\n",
       "      <td>7</td>\n",
       "    </tr>\n",
       "    <tr>\n",
       "      <th>56</th>\n",
       "      <td>{'model': RandomForestClassifier(random_state=...</td>\n",
       "      <td>0.621836</td>\n",
       "      <td>7</td>\n",
       "    </tr>\n",
       "    <tr>\n",
       "      <th>79</th>\n",
       "      <td>{'model': RandomForestClassifier(random_state=...</td>\n",
       "      <td>0.621623</td>\n",
       "      <td>9</td>\n",
       "    </tr>\n",
       "    <tr>\n",
       "      <th>82</th>\n",
       "      <td>{'model': RandomForestClassifier(random_state=...</td>\n",
       "      <td>0.621623</td>\n",
       "      <td>9</td>\n",
       "    </tr>\n",
       "  </tbody>\n",
       "</table>\n",
       "</div>"
      ],
      "text/plain": [
       "                                               params  mean_test_score  \\\n",
       "85  {'model': RandomForestClassifier(random_state=...         0.623124   \n",
       "88  {'model': RandomForestClassifier(random_state=...         0.623124   \n",
       "89  {'model': RandomForestClassifier(random_state=...         0.622050   \n",
       "86  {'model': RandomForestClassifier(random_state=...         0.622050   \n",
       "46  {'model': RandomForestClassifier(random_state=...         0.621837   \n",
       "43  {'model': RandomForestClassifier(random_state=...         0.621837   \n",
       "59  {'model': RandomForestClassifier(random_state=...         0.621836   \n",
       "56  {'model': RandomForestClassifier(random_state=...         0.621836   \n",
       "79  {'model': RandomForestClassifier(random_state=...         0.621623   \n",
       "82  {'model': RandomForestClassifier(random_state=...         0.621623   \n",
       "\n",
       "    rank_test_score  \n",
       "85                1  \n",
       "88                1  \n",
       "89                3  \n",
       "86                3  \n",
       "46                5  \n",
       "43                5  \n",
       "59                7  \n",
       "56                7  \n",
       "79                9  \n",
       "82                9  "
      ]
     },
     "metadata": {},
     "output_type": "display_data"
    }
   ],
   "source": [
    "results = pd.DataFrame(grid_search.cv_results_)\n",
    "results.sort_values('rank_test_score', inplace=True)\n",
    "display(results[['params', 'mean_test_score', 'rank_test_score']].head(10))"
   ]
  },
  {
   "cell_type": "code",
   "execution_count": 17,
   "metadata": {},
   "outputs": [
    {
     "name": "stdout",
     "output_type": "stream",
     "text": [
      "Best parameters: {'model': RandomForestClassifier(random_state=42), 'model__criterion': 'entropy', 'model__max_depth': 10, 'model__max_features': 'sqrt', 'model__n_estimators': 100}\n"
     ]
    }
   ],
   "source": [
    "print(f\"Best parameters: {grid_search.best_params_}\")\n",
    "\n",
    "best_model = grid_search.best_estimator_\n",
    "\n",
    "best_model.fit(train_wo_pca.drop('emotion', axis=1), train_wo_pca['emotion'])\n",
    "\n",
    "# save the model\n",
    "pickle.dump(best_model, open('best_model_wo_pca.pkl', 'wb'))"
   ]
  },
  {
   "cell_type": "code",
   "execution_count": 26,
   "metadata": {},
   "outputs": [],
   "source": [
    "# load the model\n",
    "best_model = pickle.load(open('best_model_wo_pca.pkl', 'rb'))"
   ]
  },
  {
   "cell_type": "code",
   "execution_count": 27,
   "metadata": {},
   "outputs": [
    {
     "name": "stdout",
     "output_type": "stream",
     "text": [
      "Train data accuracy: 0.8637923637923638\n",
      "Test data accuracy: 0.6332046332046332\n",
      "Train data f1-score: 0.8441985843093065\n",
      "Test data f1-score: 0.5399152277618727\n"
     ]
    }
   ],
   "source": [
    "print(f\"Train data accuracy: {best_model.score(train_wo_pca.drop('emotion', axis=1), train_wo_pca['emotion'])}\")\n",
    "print(f\"Test data accuracy: {best_model.score(test_wo_pca.drop('emotion', axis=1), test_wo_pca['emotion'])}\")\n",
    "\n",
    "print(f\"Train data f1-score: {f1_score(train_wo_pca['emotion'], best_model.predict(train_wo_pca.drop('emotion', axis=1)), average='macro')}\")\n",
    "print(f\"Test data f1-score: {f1_score(test_wo_pca['emotion'], best_model.predict(test_wo_pca.drop('emotion', axis=1)), average='macro')}\")"
   ]
  },
  {
   "cell_type": "code",
   "execution_count": 28,
   "metadata": {},
   "outputs": [
    {
     "data": {
      "image/png": "[encoded data removed]",
      "text/plain": [
       "<Figure size 640x480 with 2 Axes>"
      ]
     },
     "metadata": {},
     "output_type": "display_data"
    }
   ],
   "source": [
    "test_pred = best_model.predict(test_wo_pca.drop('emotion', axis=1))\n",
    "\n",
    "labels = [\"angry\", \"happy\", \"sad\", \"neutral\"]\n",
    "cm = confusion_matrix(test_wo_pca[\"emotion\"], test_pred, normalize='true', labels=labels)\n",
    "dsp = ConfusionMatrixDisplay(cm, display_labels=labels)\n",
    "dsp.plot(cmap=plt.cm.Blues)\n",
    "plt.title(\"Confusion Matrix without PCA\")\n",
    "plt.show()"
   ]
  },
  {
   "cell_type": "code",
   "execution_count": 29,
   "metadata": {},
   "outputs": [
    {
     "name": "stdout",
     "output_type": "stream",
     "text": [
      "Classification report without PCA:\n",
      "\n",
      "              precision    recall  f1-score   support\n",
      "\n",
      "       angry       0.77      0.28      0.42        95\n",
      "       happy       0.78      0.89      0.83       186\n",
      "         sad       0.44      0.21      0.28        97\n",
      "     neutral       0.51      0.82      0.63       140\n",
      "\n",
      "    accuracy                           0.63       518\n",
      "   macro avg       0.63      0.55      0.54       518\n",
      "weighted avg       0.64      0.63      0.60       518\n",
      "\n"
     ]
    }
   ],
   "source": [
    "print(f\"Classification report without PCA:\\n\")\n",
    "print(\n",
    "    classification_report(test_wo_pca[\"emotion\"], test_pred, labels=labels)\n",
    ")"
   ]
  }
 ],
 "metadata": {
  "kernelspec": {
   "display_name": "iis_project_test_env",
   "language": "python",
   "name": "python3"
  },
  "language_info": {
   "codemirror_mode": {
    "name": "ipython",
    "version": 3
   },
   "file_extension": ".py",
   "mimetype": "text/x-python",
   "name": "python",
   "nbconvert_exporter": "python",
   "pygments_lexer": "ipython3",
   "version": "3.11.6"
  }
 },
 "nbformat": 4,
 "nbformat_minor": 2
}
